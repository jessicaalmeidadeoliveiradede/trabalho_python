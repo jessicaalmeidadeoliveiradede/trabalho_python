{
  "cells": [
    {
      "cell_type": "markdown",
      "metadata": {
        "id": "view-in-github",
        "colab_type": "text"
      },
      "source": [
        "<a href=\"https://colab.research.google.com/github/jessicaalmeidadeoliveiradede/trabalho_python/blob/main/atividade_Colaboratory.ipynb\" target=\"_parent\"><img src=\"https://colab.research.google.com/assets/colab-badge.svg\" alt=\"Open In Colab\"/></a>"
      ]
    },
    {
      "cell_type": "code",
      "source": [
        "a=int(input(\"digite o valor de a\"))\n",
        "b=int(input(\"digite o valor de b\"))\n",
        "c=int(input(\"digite o valor de c\"))\n",
        "d=int(input(\"digite o valor de d\"))\n",
        "e=int(input(\"digite o valor e\"))\n",
        "c=b*a\n",
        "d=a*a\n",
        "e=b*b\n",
        "\n",
        "print(\"b*a\",c)\n",
        "print(\"b*b\",e)\n",
        "print(\"a*a\",d)\n",
        "print(\"d>e\",d>e)\n",
        "print(\"d<e\",d<e)\n",
        "print(\"d ==(a*b):\",d ==(a*b))\n",
        "print(\"(d*b)!=(c*a)\",(d*b)!=(c*a))\n",
        "print(\"a>=c\",a>=c)\n",
        "print(\"c<=e\",c<=e)"
      ],
      "metadata": {
        "id": "_jIFhKDJndQu",
        "colab": {
          "base_uri": "https://localhost:8080/"
        },
        "outputId": "6c6d935c-1329-418d-e910-7bd63b10366d"
      },
      "execution_count": 6,
      "outputs": [
        {
          "output_type": "stream",
          "name": "stdout",
          "text": [
            "digite o valor de a 2\n",
            "digite o valor de b 5\n",
            "digite o valor de c 2\n",
            "digite o valor de d 5\n",
            "digite o valor e 2\n",
            "b*a 10\n",
            "b*b 25\n",
            "a*a 4\n",
            "d>e False\n",
            "d<e True\n",
            "d ==(a*b): False\n",
            "(d*b)!=(c*a) False\n",
            "a>=c False\n",
            "c<=e True\n"
          ]
        }
      ]
    },
    {
      "cell_type": "code",
      "source": [
        "\n",
        "nota=int(input(\"digite uma note entre 0 e 100\"))\n",
        "print(\"qual e a sua nota\",nota )\n",
        "while nota > 100 or nota<0:\n",
        "  print(\"nota invalida\")\n",
        "  nota=int(input(\"digite uma note entre 0 e 100:\"))\n",
        "  if nota<60:\n",
        "    print(\"aluno aprovado\")\n",
        "  else:\n",
        "      print(\"aluno reprovado\")"
      ],
      "metadata": {
        "colab": {
          "base_uri": "https://localhost:8080/"
        },
        "id": "yTaT73ZrstZa",
        "outputId": "dbcba1c0-065f-4fe1-ab5c-8f0336ce2c4f"
      },
      "execution_count": 15,
      "outputs": [
        {
          "output_type": "stream",
          "name": "stdout",
          "text": [
            "digite uma note entre 0 e 100 60\n",
            "qual e a sua nota 60\n"
          ]
        }
      ]
    },
    {
      "cell_type": "code",
      "source": [
        "x=int(input(\"digite o valor de x\"))\n",
        "x=x+x\n",
        "print(\"o valor de do x e\",x)\n",
        "\n",
        "while x>2:\n",
        "  print(x)\n",
        "\n",
        "  x=x/2\n"
      ],
      "metadata": {
        "colab": {
          "base_uri": "https://localhost:8080/"
        },
        "id": "FqVP-z-xqpRJ",
        "outputId": "6927693b-b422-416b-f3ec-031ae6168ed6"
      },
      "execution_count": 3,
      "outputs": [
        {
          "output_type": "stream",
          "name": "stdout",
          "text": [
            "digite o valor de x 64\n",
            "o valor de do x e 128\n",
            "128\n",
            "64.0\n",
            "32.0\n",
            "16.0\n",
            "8.0\n",
            "4.0\n"
          ]
        }
      ]
    }
  ],
  "metadata": {
    "colab": {
      "provenance": [],
      "include_colab_link": true
    },
    "kernelspec": {
      "display_name": "Python 3",
      "name": "python3"
    }
  },
  "nbformat": 4,
  "nbformat_minor": 0
}