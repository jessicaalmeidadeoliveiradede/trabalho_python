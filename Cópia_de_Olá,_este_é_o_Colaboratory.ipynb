{
  "cells": [
    {
      "cell_type": "markdown",
      "metadata": {
        "id": "view-in-github",
        "colab_type": "text"
      },
      "source": [
        "<a href=\"https://colab.research.google.com/github/jessicaalmeidadeoliveiradede/trabalho_python/blob/main/C%C3%B3pia_de_Ol%C3%A1%2C_este_%C3%A9_o_Colaboratory.ipynb\" target=\"_parent\"><img src=\"https://colab.research.google.com/assets/colab-badge.svg\" alt=\"Open In Colab\"/></a>"
      ]
    },
    {
      "cell_type": "code",
      "source": [
        "a=int(input(\"digite o valor de a\"))\n",
        "b=int(input(\"digite o valor de b\"))\n",
        "c=int(input(\"digite o valor de c\"))\n",
        "d=int(input(\"digite o valor de d\"))\n",
        "e=int(input(\"digite o valor e\"))\n",
        "\n",
        "a=5\n",
        "c=2\n",
        "\n",
        "c=b*a\n",
        "d=a*a\n",
        "e=b*b\n",
        "\n",
        "print(\"b*a\",c)\n",
        "print(\"b*b\",e)\n",
        "print(\"a*a\",d)\n",
        "print(\"d>e\",d>e)\n",
        "print(\"d<e\",d<e)\n",
        "print(\"d ==(a*b):\",d ==(a*b))\n",
        "print(\"(d*b)!=(c*a)\",(d*b)!=(c*a))\n",
        "print(\"a>=c\",a>=c)\n",
        "print(\"c<=e\",c<=e)"
      ],
      "metadata": {
        "id": "_jIFhKDJndQu",
        "colab": {
          "base_uri": "https://localhost:8080/"
        },
        "outputId": "f31fa6bb-e24f-4b8f-c818-0e5daf2b4761"
      },
      "execution_count": 1,
      "outputs": [
        {
          "output_type": "stream",
          "name": "stdout",
          "text": [
            "digite o valor de a 4\n",
            "digite o valor de b 5\n",
            "digite o valor de c 6\n",
            "digite o valor de d 7\n",
            "digite o valor e 8\n",
            "b*a 25\n",
            "b*b 25\n",
            "a*a 25\n",
            "d>e False\n",
            "d<e False\n",
            "d ==(a*b): True\n",
            "(d*b)!=(c*a) False\n",
            "a>=c False\n",
            "c<=e True\n"
          ]
        }
      ]
    }
  ],
  "metadata": {
    "colab": {
      "provenance": [],
      "include_colab_link": true
    },
    "kernelspec": {
      "display_name": "Python 3",
      "name": "python3"
    }
  },
  "nbformat": 4,
  "nbformat_minor": 0
}